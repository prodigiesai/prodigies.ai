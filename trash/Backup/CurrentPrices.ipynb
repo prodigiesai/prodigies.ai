{
 "cells": [
  {
   "cell_type": "code",
   "execution_count": 1,
   "metadata": {},
   "outputs": [
    {
     "name": "stdout",
     "output_type": "stream",
     "text": [
      "     symbol       price\n",
      "0   BTCUSD4  22882.5400\n",
      "1   ETHUSD4   1626.0300\n",
      "2    XRPUSD      0.2970\n",
      "3   BCHUSD4    134.2000\n",
      "4   LTCUSD4     96.2100\n",
      "5  USDTUSD4      1.0003\n",
      "6   BTCUSDT  90442.7400\n",
      "7   ETHUSDT   3108.6700\n",
      "8   XRPUSDT      1.0723\n",
      "9   BCHUSDT    438.0000\n"
     ]
    }
   ],
   "source": [
    "# 1. Obtener Precios de Criptomonedas con la Binance API\n",
    "# Primero, creamos un script que obtenga los precios de las criptomonedas en tiempo real usando la Binance API.\n",
    "\n",
    "# Instalar Librerías Necesarias:\n",
    "# pip3 install requests pandas -binance\n",
    "# pip3 install ta yfinance scikit-learn numpy pandas\n",
    "\n",
    "# Código para Obtener Precios de Criptomonedas:\n",
    "\n",
    "from binance.client import Client\n",
    "import pandas as pd\n",
    "\n",
    "# Configura la API de Binance\n",
    "api_key = 'j3W5PfILpjwkl18wX9XQPTnzsZLBJlRR8VeYQ7wBl392kvVk7l93XBDXYUIiko1Q'\n",
    "api_secret = 'sxIitxiRGXbV9YqUv3dBPK8G4qteGAH0XdXvPa5ekgORlP5KGSkQ8gmsLzdQgYlc'\n",
    "client = Client(api_key, api_secret, tld='us')\n",
    "# Obtener los precios actuales\n",
    "prices = client.get_all_tickers()\n",
    "\n",
    "# Convertir a un DataFrame de pandas para análisis\n",
    "df_prices = pd.DataFrame(prices)\n",
    "df_prices.columns = ['symbol', 'price']\n",
    "df_prices['price'] = df_prices['price'].astype(float)\n",
    "\n",
    "# Mostrar las 10 principales criptomonedas\n",
    "print(df_prices.head(10))"
   ]
  }
 ],
 "metadata": {
  "kernelspec": {
   "display_name": "Python (.venv)",
   "language": "python",
   "name": ".venv"
  },
  "language_info": {
   "codemirror_mode": {
    "name": "ipython",
    "version": 3
   },
   "file_extension": ".py",
   "mimetype": "text/x-python",
   "name": "python",
   "nbconvert_exporter": "python",
   "pygments_lexer": "ipython3",
   "version": "3.12.5"
  }
 },
 "nbformat": 4,
 "nbformat_minor": 2
}
