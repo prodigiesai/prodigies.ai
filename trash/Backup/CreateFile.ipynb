{
 "cells": [
  {
   "cell_type": "code",
   "execution_count": 12,
   "metadata": {},
   "outputs": [
    {
     "name": "stdout",
     "output_type": "stream",
     "text": [
      "     symbol       price\n",
      "0   BTCUSD4  22882.5400\n",
      "1   ETHUSD4   1626.0300\n",
      "2    XRPUSD      0.2970\n",
      "3   BCHUSD4    134.2000\n",
      "4   LTCUSD4     96.2100\n",
      "5  USDTUSD4      1.0003\n",
      "6   BTCUSDT  89729.2300\n",
      "7   ETHUSDT   3073.6800\n",
      "8   XRPUSDT      1.0369\n",
      "9   BCHUSDT    430.0000\n"
     ]
    }
   ],
   "source": [
    "# 1. Obtener Precios de Criptomonedas con la Binance API\n",
    "# Primero, creamos un script que obtenga los precios de las criptomonedas en tiempo real usando la Binance API.\n",
    "\n",
    "# Instalar Librerías Necesarias:\n",
    "# pip3 install requests pandas -binance\n",
    "# pip3 install ta yfinance scikit-learn numpy pandas\n",
    "\n",
    "# Código para Obtener Precios de Criptomonedas:\n",
    "\n",
    "from binance.client import Client\n",
    "import pandas as pd\n",
    "\n",
    "# Configura la API de Binance\n",
    "api_key = 'j3W5PfILpjwkl18wX9XQPTnzsZLBJlRR8VeYQ7wBl392kvVk7l93XBDXYUIiko1Q'\n",
    "api_secret = 'sxIitxiRGXbV9YqUv3dBPK8G4qteGAH0XdXvPa5ekgORlP5KGSkQ8gmsLzdQgYlc'\n",
    "client = Client(api_key, api_secret, tld='us')\n",
    "# Obtener los precios actuales\n",
    "prices = client.get_all_tickers()\n",
    "\n",
    "# Convertir a un DataFrame de pandas para análisis\n",
    "df_prices = pd.DataFrame(prices)\n",
    "df_prices.columns = ['symbol', 'price']\n",
    "df_prices['price'] = df_prices['price'].astype(float)\n",
    "\n",
    "# Mostrar las 10 principales criptomonedas\n",
    "print(df_prices.head(10))"
   ]
  },
  {
   "cell_type": "code",
   "execution_count": 18,
   "metadata": {},
   "outputs": [],
   "source": [
    "import jwt\n",
    "from cryptography.hazmat.primitives.asymmetric import ec\n",
    "import time\n",
    "import requests\n",
    "from binance.client import Client\n",
    "from json import dumps\n",
    "import pandas as pd\n",
    "\n",
    "\n",
    "# Define the filename for the CSV file\n",
    "filename = 'historical_data_2.csv'\n",
    "\n",
    "# Check if the file exists; otherwise, create an empty DataFrame\n",
    "try:\n",
    "    df_existing = pd.read_csv(filename)\n",
    "except FileNotFoundError:\n",
    "    df_existing = pd.DataFrame(columns=['timestamp', 'open', 'high', 'low', 'close', 'volume', 'close_time',\n",
    "                                        'quote_asset_volume', 'number_of_trades', 'taker_buy_base_asset_volume',\n",
    "                                        'taker_buy_quote_asset_volume', 'ignore'])\n",
    "\n",
    "# Get the last timestamp\n",
    "last_timestamp = pd.Timestamp(df_existing['timestamp'].iloc[-1]) if not df_existing.empty else None\n",
    "start_time = int(last_timestamp.timestamp() * 1000) + 1 if last_timestamp else None\n",
    "\n",
    "# Fetch new klines data from Binance\n",
    "klines = client.get_klines(symbol='BTCUSDT', interval='1m', startTime=start_time, limit=1000)\n",
    "\n",
    "# Convert retrieved data to a DataFrame\n",
    "temp_df = pd.DataFrame(klines, columns=[\n",
    "    'timestamp', 'open', 'high', 'low', 'close', 'volume', 'close_time',\n",
    "    'quote_asset_volume', 'number_of_trades', 'taker_buy_base_asset_volume',\n",
    "    'taker_buy_quote_asset_volume', 'ignore'\n",
    "])\n",
    "\n",
    "# Append the new data to the existing DataFrame\n",
    "df_existing = pd.concat([df_existing, temp_df], ignore_index=True)\n",
    "\n",
    "# Save the updated DataFrame to the CSV file\n",
    "df_existing.to_csv(filename, index=False)"
   ]
  }
 ],
 "metadata": {
  "kernelspec": {
   "display_name": "Python (.venv)",
   "language": "python",
   "name": ".venv"
  },
  "language_info": {
   "codemirror_mode": {
    "name": "ipython",
    "version": 3
   },
   "file_extension": ".py",
   "mimetype": "text/x-python",
   "name": "python",
   "nbconvert_exporter": "python",
   "pygments_lexer": "ipython3",
   "version": "3.12.5"
  }
 },
 "nbformat": 4,
 "nbformat_minor": 2
}
